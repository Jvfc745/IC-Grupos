{
  "cells": [
    {
      "cell_type": "markdown",
      "metadata": {
        "id": "Qu33JAvWfOk-"
      },
      "source": [
        "# GRUPOS"
      ]
    },
    {
      "cell_type": "markdown",
      "source": [
        "A ideia principal desse projeto é apresentar a noção de grupo e escrever um algoritmo que teste se uma dada estrutura é ou não um grupo. Para começar, vamos apresentar a definição de grupo e alguns exemplos.  Em seguida, vamos construir algumas funções para testar as condições que precisam ser satisfeitas por um grupo.  Por fim, vamos listar algumas limitações do algoritmo proposto.\n"
      ],
      "metadata": {
        "id": "H3Dj2Vq4BYtz"
      }
    },
    {
      "cell_type": "markdown",
      "source": [
        "## Definição"
      ],
      "metadata": {
        "id": "RCuLiMBrGaBH"
      }
    },
    {
      "cell_type": "markdown",
      "source": [
        "Um __grupo__ é definido como um conjunto não-vazio $G$ munido de uma função (ou _operação_) $m : G \\times G \\to G$.  (Isso significa que a operação $m$ recebe 2 elementos de $G$ e devolve um elemento de $G$.)  Além disso, a função $m$ precisa satisfazer as seguintes condições:\n",
        "<ul>\n",
        "  <li>(Associatividade) para todos $a, b, c \\in G$, temos que $m(m(a, b), c) = m(a, m(b, c))$;</li>\n",
        "  <li>(Existência de identidade) existe um elemento $e \\in G$, tal que $m(e, x) = x = m(x, e)$ para todo $x \\in G$;</li>\n",
        "  <li>(Existência de inversos) para cada $x \\in G$, existe $y \\in G$, tal que $m(x, y) = e = m(y, x)$.</li>\n",
        "</ul>\n"
      ],
      "metadata": {
        "id": "qK3BT9nhBVpd"
      }
    },
    {
      "cell_type": "markdown",
      "source": [
        "### Exemplos"
      ],
      "metadata": {
        "id": "LE12QSsdGdyu"
      }
    },
    {
      "cell_type": "markdown",
      "source": [
        "__Exemplo.__\n",
        "Os conjuntos dos números inteiros ($\\mathbb Z = \\{\\dots, -2, -1, 0, 1, 2, \\dots\\}$), dos números racionais ($\\mathbb Q = \\{ a/b \\mid a, b \\in \\mathbb Z, \\, b > 0\\} $), dos números reais ($\\mathbb R$), munidos da operação de soma, $m (x, y) = x + y$, são grupos.\n"
      ],
      "metadata": {
        "id": "GR7db3Zq6ae3"
      }
    },
    {
      "cell_type": "markdown",
      "source": [
        "__Exemplo.__\n",
        "O conjunto dos números reais positivos, $G = \\{x \\in \\mathbb R \\mid x > 0\\}$, munido da multiplicação, $m(x, y) = x \\cdot y$, é um grupo.\n"
      ],
      "metadata": {
        "id": "o25brMvR7OZW"
      }
    },
    {
      "cell_type": "markdown",
      "source": [
        "__Exemplo.__\n",
        "O conjunto com apenas um elemento $G = \\{\\bullet\\}$ munido da operação dada por $m(\\bullet, \\bullet) = \\bullet$, é um grupo.\n"
      ],
      "metadata": {
        "id": "WBYeOvgt77_h"
      }
    },
    {
      "cell_type": "markdown",
      "source": [
        "__Exemplo.__\n",
        "O conjunto $\\{1, 2\\}$ munido da soma usual não é um grupo, porque o $1 + 2 = 3 \\notin \\{1, 2\\}$.  Isso significa que a soma usual não define uma operação $m : \\{1, 2\\} \\times \\{1, 2\\} \\to \\{1, 2\\}$.\n"
      ],
      "metadata": {
        "id": "p2Gh3Uze-7AW"
      }
    },
    {
      "cell_type": "markdown",
      "source": [
        "__Exemplo.__\n",
        "O conjunto dos números inteiros $G = \\mathbb Z$ munido da subtração, $m (x, y) = x - y$ não é um grupo, porque $m$ não é associativa.  De fato, $m(m(0, 1), 2) = m(-1, 2) = -3$ e $m(0, m(1, 2)) = m(0, -1) = 1$.\n"
      ],
      "metadata": {
        "id": "VFGET7DF_n3X"
      }
    },
    {
      "cell_type": "markdown",
      "source": [
        "__Exemplo.__\n",
        "O conjunto dos naturais $\\mathbb N = \\{ 1, 2, 3, \\dots \\}$ munido da soma, $m (x, y) = x + y$, não é um grupo, pois $\\mathbb N$ não contém um elemento identidade em relação à $m$.  De fato, $m(x, y) = y$ se, e somente se, $x = 0$, mas $0 \\notin \\mathbb N$.\n"
      ],
      "metadata": {
        "id": "2z0WJRe_AHzn"
      }
    },
    {
      "cell_type": "markdown",
      "source": [
        "__Exemplo.__\n",
        "O conjunto dos números reais, $G = \\mathbb R$, munido da multiplicação, $m(x, y) = x \\cdot y$, não é um grupo, porque o elemento $0$ não tem inverso.\n"
      ],
      "metadata": {
        "id": "zryyYCo4Bbgb"
      }
    },
    {
      "cell_type": "markdown",
      "source": [
        "## Algoritmo\n"
      ],
      "metadata": {
        "id": "CGnuEiZ28n9n"
      }
    },
    {
      "cell_type": "markdown",
      "source": [
        "### Escolha do conjunto e da operação"
      ],
      "metadata": {
        "id": "bl0CoRdJKHWd"
      }
    },
    {
      "cell_type": "markdown",
      "source": [
        "Nessa primeira parte, nós escolhemos (fixamos) um par conjunto-função $(G, m)$, que será o par que nós testado se é um grupo ou não.  Como exemplo, nós vamos testar se o conjunto dos números inteiros é um grupo quando munido da operação de soma.\n",
        "<!--<ul>\n",
        "  <li>Se o elemento sera float int ou double. E quais elementos pertencem ao conjunto-base do grupo.</li>\n",
        "  <li>E o mais importante que é definir a operação <b>op</b> entre 2 elementos, como soma, multiplicação, potencia, etc.</li>\n",
        "</ul>-->\n"
      ],
      "metadata": {
        "id": "F3crnFdNGiZ-"
      }
    },
    {
      "cell_type": "code",
      "execution_count": null,
      "metadata": {
        "id": "z6CKvfn8fOlH"
      },
      "outputs": [],
      "source": [
        "# Função que define o conjunto-base G\n",
        "import random\n",
        "\n",
        "#Conjunto com numeros inteiros\n",
        "G = [random.randint(-1000, 1000) for _ in range(100)]\n",
        "\n",
        "def pertence_a (elemento,G):\n",
        "    return isinstance(elemento, int) #elemento in G, usariamos isso para verificar se o elemento pertence a G"
      ]
    },
    {
      "cell_type": "code",
      "source": [
        "# Função que define a operação m no conjunto\n",
        "\n",
        "def operacao (x, y):\n",
        "    return x + y\n"
      ],
      "metadata": {
        "id": "LVupjJmpBqPT"
      },
      "execution_count": null,
      "outputs": []
    },
    {
      "cell_type": "markdown",
      "source": [
        "### Funções que verificam as condições"
      ],
      "metadata": {
        "id": "b_4AoYWRKgZ4"
      }
    },
    {
      "cell_type": "markdown",
      "source": [
        "#### Função is_closed\n",
        "\n",
        "Essa função testa se o conjunto dado é fechado com relação à operação dada, ou seja, se $m : G \\times G \\to G$ é uma função bem definida.\n"
      ],
      "metadata": {
        "id": "xXrhJP1iHfRP"
      }
    },
    {
      "cell_type": "code",
      "source": [
        "# Função que testa se o conjunto 'G' é fechado com relação a 'operação'\n",
        "\n",
        "def is_closed(G, operacao):\n",
        "    for a in G:\n",
        "        for b in G:\n",
        "            if not pertence_a(operacao(a, b),G):\n",
        "                print(f\"m({a}, {b}) = {operacao(a, b)} não pertence ao conjunto G.\")\n",
        "                return False\n",
        "            #else: m(a, b) pertence a G, então continua testando\n",
        "\n",
        "    # Se o for-loop não retornou False, ou seja, se m(a, b) pertence a G para\n",
        "    # todos a, b em G, então retorne True\n",
        "    print(\"O conjunto dado é fechado pela operação dada.\")\n",
        "    return True\n"
      ],
      "metadata": {
        "id": "-jxiXzcSrNGq"
      },
      "execution_count": null,
      "outputs": []
    },
    {
      "cell_type": "markdown",
      "source": [
        "#### Função is_associative\n",
        "\n",
        "Essa função testa se a operação dada é associativa, ou seja, se $m(m(a, b), c) = m(a, m(b, c))$ para todos $a, b, c \\in G$.\n"
      ],
      "metadata": {
        "id": "9MxHRbr1Hw4-"
      }
    },
    {
      "cell_type": "code",
      "source": [
        "# Função que testa se a 'operação' é associativa.\n",
        "from math import isclose\n",
        "\n",
        "def is_associative (G, operacao):\n",
        "    for a in G:\n",
        "        for b in G:\n",
        "            for c in G:\n",
        "                if not isclose(operacao(operacao(a, b), c), operacao(a, operacao(b, c))):\n",
        "                    print(f\"A operação dada não é associativa, porque m(m({a}, {b}), {c}) = {operacao(operacao(a, b), c)} != {operacao(a, operacao(b, c))} = m(a, m(b, c))\")\n",
        "                    return False\n",
        "                #else: m(m(a, b), c) = m(a, m(b,c)), então continua testando\n",
        "\n",
        "    # Se o for-loop acima não retornou False, então m(m(a, b), c) = m(a, m(b,c))\n",
        "    # para todos os a, b, c testados.  Nesse caso, retorne True.\n",
        "    print(\"A operação dada é associativa\")\n",
        "    return True\n"
      ],
      "metadata": {
        "id": "40kwBkzsph0L"
      },
      "execution_count": null,
      "outputs": []
    },
    {
      "cell_type": "markdown",
      "source": [
        "#### Função has_identity\n",
        "\n",
        "Essa função testa se o conjunto dado tem elemento identidade, ou seja, se existe um elemento $e \\in G$, tal que $m(e, x) = x = m(x, e)$ para todo $x \\in G$.\n"
      ],
      "metadata": {
        "id": "kyLBR8kvH4-y"
      }
    },
    {
      "cell_type": "code",
      "source": [
        "# Função que testa se o conjunto 'G' contem um elemento neutro com relação a\n",
        "# 'operação'.\n",
        "import sympy\n",
        "\n",
        "def has_identity (G, operacao, verbose=True):\n",
        "    # Calcular os candidatos a elementos identidade:\n",
        "    u = sympy.symbols('u')\n",
        "    a = G[0]\n",
        "    equacao = sympy.Eq(operacao(u,a), a)\n",
        "    solucoes = sympy.solve(equacao, u)\n",
        "\n",
        "    # Verificar quais dos candidatos são, de fato, elementos neutros:\n",
        "    for e in solucoes:\n",
        "        for a in G:\n",
        "            if isclose(operacao(a, e), a) and isclose(operacao(e, a), a):\n",
        "              pass\n",
        "            else:\n",
        "              print(e)\n",
        "              solucoes.remove(e)\n",
        "\n",
        "    # Verificar se sobrou somente um elemento identidade:\n",
        "    if len(solucoes) == 0:\n",
        "        if verbose:\n",
        "            print(solucoes)\n",
        "            print(\"O conjunto G não tem identidade.\")\n",
        "        return False\n",
        "    elif len(solucoes) == 1:\n",
        "        e = solucoes.pop()\n",
        "        if verbose:\n",
        "            print(f\"A identidade de G é {e}.\")\n",
        "        return e\n",
        "    else:\n",
        "        if verbose:\n",
        "            print(\"O conjunto G tem mais de uma identidade.\")\n",
        "        return False\n"
      ],
      "metadata": {
        "id": "O6ewxWS1r6bD"
      },
      "execution_count": null,
      "outputs": []
    },
    {
      "cell_type": "markdown",
      "source": [
        "#### Função has_inverse\n",
        "\n",
        "Essa função testa se todo elemento do conjunto tem um inverso com relação à operação dada, ou seja, se, para cada $x \\in G$, existe $y \\in G$, tal que $m(x, y) = e = m(y, x)$.\n"
      ],
      "metadata": {
        "id": "xSjmOO9xIQcO"
      }
    },
    {
      "cell_type": "code",
      "source": [
        "# Função que testa se cada elemento do conjunto 'G' tem uma inversa com\n",
        "# relação a 'operação'.\n",
        "import sympy\n",
        "\n",
        "def has_inverses (G, operacao):\n",
        "  if has_identity(G, operacao, verbose=False) != None:\n",
        "      e = has_identity(G, operacao, verbose=False)\n",
        "      for a in G:\n",
        "        # Calcular os inversos do elemento a:\n",
        "        u = sympy.symbols('u')\n",
        "        equacao = sympy.Eq(operacao(u, a), e)\n",
        "        solucoes = sympy.solveset(equacao, u, domain=sympy.S.Reals)\n",
        "        inversos = [x for x in solucoes if isclose(operacao(a, x), e) and isclose(operacao(x, a), e)]\n",
        "      # Verificar se o conjunto de inversos de a tem exatamente um elemento:\n",
        "      if len(inversos) == 0:\n",
        "          print(f\"O elemento {a} não tem inversos no conjunto dado.\")\n",
        "          return False\n",
        "      elif len(inversos) > 1:\n",
        "          print(f\"O elemento {a} tem mais de um inverso no conjunto dado.\")\n",
        "          return False\n",
        "      # Se o for-loop não returnou False, ou seja, se todo elemento de G tem\n",
        "      # exatamente um inverso, então returne True\n",
        "      print(\"O conjunto dado contém os inversos de todos os seus elementos.\")\n",
        "      return True\n",
        "  else:\n",
        "      print(\"O conjunto dado não tem elemento neutro.\")\n",
        "      return False\n"
      ],
      "metadata": {
        "id": "1WvwYIDeJ3pR"
      },
      "execution_count": null,
      "outputs": []
    },
    {
      "cell_type": "markdown",
      "source": [
        "### Verificação completa\n",
        "\n",
        "Para terminar, vamos usar as funções definidas acima para testar se $(G, m)$ é um grupo, ou seja, se $G$ é fechado pela operação $m$, se $m$ é associativa, se existe elemento neutro em $G$, e se cada elemento do conjunto $G$ tem um inverso com relação à $m$.  Se o par $(G, m)$ satisfizer essas quatro condições, então ele é um grupo.  Caso contrário, ele não é um grupo.\n"
      ],
      "metadata": {
        "id": "g29hOpx0KeAO"
      }
    },
    {
      "cell_type": "code",
      "execution_count": null,
      "metadata": {
        "id": "lpmVWs64fOlL",
        "colab": {
          "base_uri": "https://localhost:8080/"
        },
        "outputId": "42083cf7-af74-4623-bd95-310af2fd0f99"
      },
      "outputs": [
        {
          "output_type": "stream",
          "name": "stdout",
          "text": [
            "O conjunto dado é fechado pela operação dada.\n",
            "A operação dada é associativa\n",
            "A identidade de G é 0.\n",
            "O conjunto dado contém os inversos de todos os seus elementos.\n",
            "\n",
            " O conjunto G é um grupo em relação à m :)\n"
          ]
        }
      ],
      "source": [
        "if is_closed(G, operacao) and is_associative(G, operacao) and has_identity(G, operacao) != None and has_inverses(G, operacao):\n",
        "    print(\"\\n O conjunto G é um grupo em relação à m :)\")\n",
        "else:\n",
        "    print(\"\\n O conjunto G não é um grupo em relação à m  :(\")\n"
      ]
    },
    {
      "cell_type": "markdown",
      "source": [
        "## Limitações\n",
        "\n",
        "Observe que o algoritmo apresentado acima tem algumas limitações.  A principal delas vem do fato de nós testarmos se um par conjunto-operação satisfaz as condições para ser um grupo elemento por elemento.  Isso tem diversas consequências.  Uma delas é que, para conjuntos grandes, a verificação será demorada.  Mas, mais importante que isso, essa forma de verificar as condições impede a verificação dos casos em que o conjunto dado é infinito com absoluta certeza.  Essa limitação é contornada usando uma amostragem.  Assim, por exemplo, o conjunto dos números reais, quando munido da operação dada pela multiplicação, provavelmente vai ser identificado como sendo um grupo pelo nosso algoritmo.  No entanto, esse par _não é um grupo_, pois o elemento identidade é $1$ e o elemento $0$ não admite inverso multiplicativo.\n"
      ],
      "metadata": {
        "id": "NMpKoFAqvyyc"
      }
    }
  ],
  "metadata": {
    "kernelspec": {
      "display_name": "base",
      "language": "python",
      "name": "python3"
    },
    "language_info": {
      "codemirror_mode": {
        "name": "ipython",
        "version": 3
      },
      "file_extension": ".py",
      "mimetype": "text/x-python",
      "name": "python",
      "nbconvert_exporter": "python",
      "pygments_lexer": "ipython3",
      "version": "3.11.3"
    },
    "orig_nbformat": 4,
    "colab": {
      "provenance": []
    }
  },
  "nbformat": 4,
  "nbformat_minor": 0
}